{
 "cells": [
  {
   "cell_type": "markdown",
   "metadata": {},
   "source": [
    "# Lab 5 - APIs\n",
    "\n",
    "APIs, or Application Programming Interfaces, are a method of accessing data from a business or government organization. Many, if not most, social media companies have some kind of API which are made available to third-party developers and researchers. Some of these work better for researchers than others.\n",
    "\n",
    "Today we're going to explore two different types of APIs, one from Statistics Canada and another from Twitter."
   ]
  },
  {
   "cell_type": "markdown",
   "metadata": {},
   "source": [
    "You can think of an API request as what happens when you access a website with a web browser. You type in the URL for a page or click a link, and then the internet gives you want you want. Something similar happens when you make an API request. You are accessing a particular URL which will return a set of requested infomation.\n",
    "\n",
    "In both of the examples which are working with in this lab, the information is returned in JSON, or **J**ava**S**cript **O**bject **N**otation. This is usually pronounced like \"JAY-SAAN\". JSON is structured a lot like Python objects, with dictionaries and lists being the main objects. For instance, a tweet is sort of structured like this:"
   ]
  },
  {
   "cell_type": "code",
   "execution_count": null,
   "metadata": {
    "collapsed": true
   },
   "outputs": [],
   "source": [
    "tweet_json = \"\"\"\n",
    "{\n",
    "    \"id\": 12345,\n",
    "    \"created_at\": \"2016-11-01\",\n",
    "    \"text\": \"I am really into #python programming. #utm #winning\",\n",
    "    \"user\": {\n",
    "        \"id\": 2345,\n",
    "        \"screen_name\": \"alexhanna\",\n",
    "        \"name\": \"Alex Hanna\"\n",
    "    },\n",
    "    \"entities\": {\n",
    "        \"hashtags\": [\n",
    "            {\n",
    "                \"name\": \"#python\"\n",
    "            },\n",
    "            {\n",
    "                \"name\": \"#utm\"\n",
    "            },\n",
    "            {\n",
    "                \"name\": \"#winning\"\n",
    "            }\n",
    "        ]\n",
    "    }\n",
    "}\"\"\""
   ]
  },
  {
   "cell_type": "markdown",
   "metadata": {},
   "source": [
    "To parse it into something Python can use, we use the <code>json</code> module. Once there, we can access parts of it like a dictionary."
   ]
  },
  {
   "cell_type": "code",
   "execution_count": null,
   "metadata": {
    "collapsed": false
   },
   "outputs": [],
   "source": [
    "import json\n",
    "tweet_obj = json.loads(tweet_json)\n",
    "\n",
    "print(tweet_obj['user']['name'])\n",
    "print(tweet_obj['text'])\n",
    "for ht in tweet_obj['entities']['hashtags']:\n",
    "    print(ht['name'])"
   ]
  },
  {
   "cell_type": "markdown",
   "metadata": {},
   "source": [
    "## Accessing APIs with <code>urllib</code>"
   ]
  },
  {
   "cell_type": "code",
   "execution_count": null,
   "metadata": {
    "collapsed": false
   },
   "outputs": [],
   "source": [
    "import urllib.request\n",
    "import json\n",
    "\n",
    "url = \"http://open.canada.ca/data/en/api/3/action/package_search?q=spending\"\n",
    "\n",
    "res = urllib.request.urlopen(url)"
   ]
  },
  {
   "cell_type": "code",
   "execution_count": null,
   "metadata": {
    "collapsed": true
   },
   "outputs": [],
   "source": [
    "json_str = res.read()"
   ]
  },
  {
   "cell_type": "code",
   "execution_count": null,
   "metadata": {
    "collapsed": false
   },
   "outputs": [],
   "source": [
    "json_obj = json.loads(json_str.decode())"
   ]
  },
  {
   "cell_type": "code",
   "execution_count": null,
   "metadata": {
    "collapsed": false
   },
   "outputs": [],
   "source": [
    "json_obj"
   ]
  },
  {
   "cell_type": "code",
   "execution_count": null,
   "metadata": {
    "collapsed": false
   },
   "outputs": [],
   "source": [
    "results = json_obj['result']['results']\n",
    "print(len(results))"
   ]
  },
  {
   "cell_type": "code",
   "execution_count": null,
   "metadata": {
    "collapsed": false,
    "scrolled": false
   },
   "outputs": [],
   "source": [
    "for result in results:\n",
    "    title = result['title']\n",
    "    print(title)\n",
    "    print()"
   ]
  },
  {
   "cell_type": "markdown",
   "metadata": {},
   "source": [
    "## Accessing the Twitter API through <code>tweepy</code>"
   ]
  },
  {
   "cell_type": "markdown",
   "metadata": {},
   "source": [
    "First we need install a package called <code>tweepy</code>. Instead of handling all the URL requests by hand, <code>tweepy</code> does this all behind the scenes. We install a new package through Jupyter Notebook like so. This has the effect of running this same command on the Windows, Mac, or UNIX command-line."
   ]
  },
  {
   "cell_type": "code",
   "execution_count": null,
   "metadata": {
    "collapsed": true
   },
   "outputs": [],
   "source": [
    "!pip install tweepy --prefix=packages"
   ]
  },
  {
   "cell_type": "markdown",
   "metadata": {},
   "source": [
    "After that, we need to load the newly installed <code>tweepy</code> module into our library path. The path is where Python looks for new libraries. Because we don't have permission to permanently install new packages, we can tell Python to look in the packages folder where we told it to put the new module."
   ]
  },
  {
   "cell_type": "code",
   "execution_count": null,
   "metadata": {
    "collapsed": true
   },
   "outputs": [],
   "source": [
    "import os\n",
    "import sys\n",
    "path = '/packages/Lib/site-packages'\n",
    "## If you are running this on Mac, comment out the previous line \n",
    "## and uncomment the line below\n",
    "##path = '/packages/lib/python3.5/site-packages'\n",
    "sys.path.insert(0, os.getcwd() + path)"
   ]
  },
  {
   "cell_type": "code",
   "execution_count": null,
   "metadata": {
    "collapsed": true
   },
   "outputs": [],
   "source": [
    "from slistener import SListener\n",
    "import json\n",
    "import time\n",
    "import tweepy\n",
    "import sys"
   ]
  },
  {
   "cell_type": "code",
   "execution_count": null,
   "metadata": {
    "collapsed": true
   },
   "outputs": [],
   "source": [
    "## authentication\n",
    "access_token = \"\"\n",
    "access_token_secret = \"\"\n",
    "consumer_key = \"\"\n",
    "consumer_secret = \"\"\n",
    "\n",
    "auth = tweepy.OAuthHandler(consumer_key, consumer_secret)\n",
    "auth.set_access_token(access_token, access_token_secret)\n",
    "api  = tweepy.API(auth)"
   ]
  },
  {
   "cell_type": "markdown",
   "metadata": {},
   "source": [
    "After that, we can start tracking things from Twitter's stream. This is only a small sample of possible things we can get from Twitter. To get full access, you need to pay a company to get historical data.\n",
    "\n",
    "For now, we'll pick some fairly obvious keywords which will be on Twitter which related to the US election. There's other [things we can track](https://dev.twitter.com/streaming/reference/post/statuses/filter) here, but for now we'll just track keywords."
   ]
  },
  {
   "cell_type": "code",
   "execution_count": null,
   "metadata": {
    "collapsed": false
   },
   "outputs": [],
   "source": [
    "## set up words to track\n",
    "track = ['trump', 'clinton']\n",
    "\n",
    "listen = SListener(api, 'election2016')\n",
    "stream = tweepy.Stream(auth, listen)\n",
    "\n",
    "print(\"Streaming started...\")\n",
    "\n",
    "stream.filter(track = track)"
   ]
  },
  {
   "cell_type": "markdown",
   "metadata": {},
   "source": [
    "Finally, we want to convert this all to a DataFrame. The problem is that with the nested structure of a tweet, it's kind of difficult to put it in a rectangular format. For that, we'll do a little bit of \"flattening\" of the data. This entails going through all the files, then going through all the tweets in those files and putting them into a column at the top level of the nested structure. In particular, let's get the screen names of users, the text and users of retweets, and the text and users of quoted tweets."
   ]
  },
  {
   "cell_type": "code",
   "execution_count": null,
   "metadata": {
    "collapsed": true
   },
   "outputs": [],
   "source": [
    "import glob\n",
    "import pandas as pd\n",
    "import numpy as np\n",
    "\n",
    "tweets = []\n",
    "files  = list(glob.iglob('election2016*.json'))\n",
    "for f in files:\n",
    "    fh = open(f, 'r', encoding = 'utf-8')\n",
    "    tweets_json = fh.read().split(\"\\n\")\n",
    "\n",
    "    ## remove empty lines\n",
    "    tweets_json = list(filter(len, tweets_json))\n",
    "\n",
    "    ## parse each tweet\n",
    "    for tweet in tweets_json:\n",
    "        try:\n",
    "            tweet_obj = json.loads(tweet)\n",
    "\n",
    "            ## flatten the file to include quoted status and retweeted status info\n",
    "            if 'quoted_status' in tweet_obj:\n",
    "                tweet_obj['quoted_status-text'] = tweet_obj['quoted_status']['text'] \n",
    "                tweet_obj['quoted_status-user-screen_name'] = tweet_obj['quoted_status']['user']['screen_name']\n",
    "\n",
    "            if 'retweeted_status' in tweet_obj:\n",
    "                tweet_obj['retweeted_status-user-screen_name'] = tweet_obj['retweeted_status']['user']['screen_name']\n",
    "                tweet_obj['retweeted_status-text'] = tweet_obj['retweeted_status']['text']\n",
    "\n",
    "            tweet_obj['user-screen_name'] = tweet_obj['user']['screen_name']\n",
    "\n",
    "            tweets.append(tweet_obj)\n",
    "        except:\n",
    "            pass\n",
    "\n",
    "## create pandas DataFrame for further analysis\n",
    "df_tweet = pd.DataFrame(tweets)"
   ]
  }
 ],
 "metadata": {
  "anaconda-cloud": {},
  "kernelspec": {
   "display_name": "Python [Root]",
   "language": "python",
   "name": "Python [Root]"
  },
  "language_info": {
   "codemirror_mode": {
    "name": "ipython",
    "version": 3
   },
   "file_extension": ".py",
   "mimetype": "text/x-python",
   "name": "python",
   "nbconvert_exporter": "python",
   "pygments_lexer": "ipython3",
   "version": "3.5.2"
  }
 },
 "nbformat": 4,
 "nbformat_minor": 0
}
